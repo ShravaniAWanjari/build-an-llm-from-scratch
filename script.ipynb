{
 "cells": [
  {
   "cell_type": "code",
   "execution_count": 1,
   "metadata": {},
   "outputs": [],
   "source": [
    "import torch"
   ]
  },
  {
   "cell_type": "code",
   "execution_count": 12,
   "metadata": {},
   "outputs": [
    {
     "name": "stdout",
     "output_type": "stream",
     "text": [
      "0d tensor: \n",
      " tensor(1) \n",
      "\n",
      "1d tensor: \n",
      " tensor([1, 2, 3]) \n",
      "\n",
      "2d tensor: \n",
      " tensor([[1, 2],\n",
      "        [3, 4]]) \n",
      "\n",
      "3d tensor: \n",
      " tensor([[[1, 2],\n",
      "         [3, 4]],\n",
      "\n",
      "        [[5, 6],\n",
      "         [7, 8]]]) \n",
      "\n",
      "torch.int64\n",
      "torch.float32\n",
      "torch.float16\n"
     ]
    }
   ],
   "source": [
    "tensor0d = torch.tensor(1)\n",
    "\n",
    "tensor1d = torch.tensor([1,2,3])\n",
    "\n",
    "tensor2d = torch.tensor([[1,2],[3,4]])\n",
    "\n",
    "tensor3d = torch.tensor([[[1,2],[3,4]],[[5,6],[7,8]]])\n",
    "\n",
    "\n",
    "print(\"0d tensor: \\n\", tensor0d, \"\\n\")\n",
    "print(\"1d tensor: \\n\", tensor1d, \"\\n\")\n",
    "print(\"2d tensor: \\n\", tensor2d, \"\\n\")\n",
    "print(\"3d tensor: \\n\", tensor3d, \"\\n\")\n",
    "print(tensor1d.dtype)\n",
    "\n",
    "floatvec = torch.tensor([1.0, 2.0, 3.0])\n",
    "print(floatvec.dtype)\n",
    "\n",
    "floatvec = tensor1d.to(torch.float16)\n",
    "print(floatvec.dtype)\n"
   ]
  }
 ],
 "metadata": {
  "kernelspec": {
   "display_name": "Python 3",
   "language": "python",
   "name": "python3"
  },
  "language_info": {
   "codemirror_mode": {
    "name": "ipython",
    "version": 3
   },
   "file_extension": ".py",
   "mimetype": "text/x-python",
   "name": "python",
   "nbconvert_exporter": "python",
   "pygments_lexer": "ipython3",
   "version": "3.12.10"
  }
 },
 "nbformat": 4,
 "nbformat_minor": 2
}
