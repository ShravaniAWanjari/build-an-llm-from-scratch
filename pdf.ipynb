{
 "cells": [
  {
   "cell_type": "code",
   "execution_count": 19,
   "metadata": {},
   "outputs": [],
   "source": [
    "from langchain.text_splitter import CharacterTextSplitter\n",
    "from langchain.embeddings import HuggingFaceBgeEmbeddings\n",
    "from langchain.vectorstores import FAISS\n",
    "from pypdf import PdfReader\n",
    "from langchain.chat_models import ChatOllama\n",
    "from langchain.chains import RetrievalQA\n",
    "import gradio as gr"
   ]
  },
  {
   "cell_type": "code",
   "execution_count": 8,
   "metadata": {},
   "outputs": [
    {
     "name": "stdout",
     "output_type": "stream",
     "text": [
      "Options Volatility Script: \n",
      "Documentation\n",
      "Key Features:\n",
      "Option Chain Data: Fetches live call/put options from NSE.\n",
      "Historical Data: Retrieves daily OHLC data from NSE (last 90 days).\n",
      "Historical Volatility HV Calculates past stock price fluctuations.\n",
      "GARCH Volatility: Models future volatility based on past returns.\n",
      "Implied Volatility IV Derives market's expectation of future volatility from \n",
      "option prices.\n",
      "Excel Output: Saves all data into an organized Excel file.\n",
      "Mathematical Formulas :\n",
      "1.\n"
     ]
    }
   ],
   "source": [
    "\n",
    "reader = PdfReader(\"Options_Volatility_Script_Documentation.pdf\")\n",
    "text = ''\n",
    "\n",
    "for page in reader.pages:\n",
    "    text += page.extract_text()\n",
    "\n",
    "print(text[:500])"
   ]
  },
  {
   "cell_type": "code",
   "execution_count": 14,
   "metadata": {},
   "outputs": [],
   "source": [
    "raw_text = text\n",
    "\n",
    "text_splitter = CharacterTextSplitter(chunk_size = 1000, chunk_overlap = 100)\n",
    "\n",
    "texts = text_splitter.split_text(raw_text)\n",
    "\n",
    "\n",
    "embeddings = HuggingFaceBgeEmbeddings(model_name=\"all-MiniLM-L6-v2\")\n",
    "\n",
    "vectorstore = FAISS.from_texts( texts , embedding=embeddings)\n",
    "\n",
    "vectorstore.save_local('volatility_vectordb')"
   ]
  },
  {
   "cell_type": "code",
   "execution_count": 16,
   "metadata": {},
   "outputs": [
    {
     "name": "stdout",
     "output_type": "stream",
     "text": [
      "Answer: The document appears to be a user manual or documentation for an Options Volatility Script. The script provides various features and tools for calculating and analyzing options volatility, including:\n",
      "\n",
      "1. Option Chain Data: The script can fetch live call/put options from NSE (National Stock Exchange of India).\n",
      "2. Historical Data: The script can retrieve daily OHLC (Open, High, Low, Close) data from NSE for the last 90 days.\n",
      "3. Historical Volatility: The script calculates past stock price fluctuations using a formula that is based on the annualized standard deviation of daily log returns.\n",
      "4. GARCH Volatility: The script uses a conditional volatility modeling approach, accounting for volatility clustering, to estimate the volatility of the underlying asset.\n",
      "5. Black-Scholes Option Pricing: The script uses the Black-Scholes model to price European options and find the implied volatility that makes the Black-Scholes price match the market price.\n",
      "6. Implied Volatility: The script provides an optimization method to find the implied volatility that makes the Black-Scholes price match the market price.\n",
      "\n",
      "The script appears to be written in Excel, and it uses various mathematical formulas and functions to perform the calculations. The documentation provides a detailed explanation of each feature and function, as well as the input and output formats for each one.\n",
      "--- Source Chunk ---\n",
      "Options Volatility Script: \n",
      "Documentation\n",
      "Key Features:\n",
      "Option Chain Data: Fetches live call/put options from NSE.\n",
      "Historical Data: Retrieves daily OHLC data from NSE (last 90 days).\n",
      "Historical Volatility HV Calculates past stock price fluctuations.\n",
      "GARCH Volatility: Models future volatility base\n"
     ]
    }
   ],
   "source": [
    "embedding_model = HuggingFaceBgeEmbeddings(model_name=\"all-MiniLM-L6-v2\")\n",
    "vectorstore = FAISS.load_local(\"volatility_vectordb\", embeddings=embedding_model, allow_dangerous_deserialization=True)\n",
    "\n",
    "llm = ChatOllama(model=\"llama2\")\n",
    "\n",
    "rag_chain = RetrievalQA.from_chain_type(llm=llm, retriever = vectorstore.as_retriever(), return_source_documents=True)\n",
    "\n",
    "\n",
    "query = \"What is the document about\"\n",
    "\n",
    "result = rag_chain(query)\n",
    "\n",
    "print(f\"Answer: {result['result']}\")\n",
    "\n",
    "\n",
    "for doc in result['source_documents']:\n",
    "    print('--- Source Chunk ---')\n",
    "    print(doc.page_content[:300])"
   ]
  },
  {
   "cell_type": "code",
   "execution_count": 23,
   "metadata": {},
   "outputs": [
    {
     "name": "stdout",
     "output_type": "stream",
     "text": [
      "* Running on local URL:  http://127.0.0.1:7862\n",
      "* To create a public link, set `share=True` in `launch()`.\n"
     ]
    },
    {
     "data": {
      "text/html": [
       "<div><iframe src=\"http://127.0.0.1:7862/\" width=\"100%\" height=\"500\" allow=\"autoplay; camera; microphone; clipboard-read; clipboard-write;\" frameborder=\"0\" allowfullscreen></iframe></div>"
      ],
      "text/plain": [
       "<IPython.core.display.HTML object>"
      ]
     },
     "metadata": {},
     "output_type": "display_data"
    },
    {
     "data": {
      "text/plain": []
     },
     "execution_count": 23,
     "metadata": {},
     "output_type": "execute_result"
    },
    {
     "name": "stdout",
     "output_type": "stream",
     "text": [
      "Received Query: what does the document say\n",
      "Generated Answer: {'query': 'What is the document about', 'result': 'The document appears to be a user manual or documentation for an Options Volatility Script. The script provides various features and tools for calculating and analyzing options volatility, including:\\n\\n1. Option Chain Data: The script can fetch live call/put options from NSE (National Stock Exchange of India).\\n2. Historical Data: The script can retrieve daily OHLC (Open, High, Low, Close) data from NSE for the last 90 days.\\n3. Historical Volatility: The script calculates past stock price fluctuations using a formula that is based on the annualized standard deviation of daily log returns.\\n4. GARCH Volatility: The script uses a conditional volatility modeling approach, accounting for volatility clustering, to estimate the volatility of the underlying asset.\\n5. Black-Scholes Option Pricing: The script uses the Black-Scholes model to price European options and find the implied volatility that makes the Black-Scholes price match the market price.\\n6. Implied Volatility: The script provides an optimization method to find the implied volatility that makes the Black-Scholes price match the market price.\\n\\nThe script appears to be written in Excel, and it uses various mathematical formulas and functions to perform the calculations. The documentation provides a detailed explanation of each feature and function, as well as the input and output formats for each one.', 'source_documents': [Document(id='4bf89f32-7496-47aa-9ca2-f26e67ac0194', metadata={}, page_content=\"Options Volatility Script: \\nDocumentation\\nKey Features:\\nOption Chain Data: Fetches live call/put options from NSE.\\nHistorical Data: Retrieves daily OHLC data from NSE (last 90 days).\\nHistorical Volatility \\ue081HV\\ue082\\ue092 Calculates past stock price fluctuations.\\nGARCH Volatility: Models future volatility based on past returns.\\nImplied Volatility \\ue081IV\\ue082\\ue092 Derives market's expectation of future volatility from \\noption prices.\\nExcel Output: Saves all data into an organized Excel file.\\nMathematical Formulas :\\n1. Historical Volatility (HV)\\nWhat it is: Annualized standard deviation of daily log returns.\\nFormula:\\n\\ue072\\ue094 Daily Log Return (Rt): ln(Pt/Pt−1\\ue082\\n\\ue073\\ue094 Daily StDev (σdaily): N1∑\\ue081Ri−Rˉ\\ue0822\\n\\ue074\\ue094 Annualized HV \\ue081σHV\\ue082\\ue092 σdaily×252\\nCode Reference: c a l c u l a t e _ h v  function.\\n2. GARCH(1,1) Volatility\\nWhat it is: Conditional volatility modeling, accounting for volatility clustering.\\nFormula: σt2\\ue09bα0+α1ϵt−12\\ue09dβ1σt−12\\nOptions V olatilit y Scr ipt: Document ation\\n1σt2\\ue092 Conditional variance at time t.\\nϵt−12\\ue092 Squared past return (lagged error).\\nσt−12\\ue092 Past conditional variance.\\nα0,α1,β1\\ue092 Model parameters (estimated by the model).\\nCode Reference: e s t i m a t e _ g a r c h  function. Result is then divided by 100 for \\ndecimal.\\n3. Black-Scholes Option Pricing (for IV Calculation)\\nWhat it is: Model to price European options, inverted to find IV.\\nCall Price \\ue081C\\ue082\\ue092 SN(d1)\\ue09eKe−rTN(d2)\\nPut Price \\ue081P\\ue082\\ue092 Ke−rTN(−d2\\ue082\\ue09eSN(−d1\\ue082\\nWhere:\\nd1\\ue09bσTln(S/K)+(r+σ2/2\\ue082T\\nd2=d1\\ue09eσT\\nS\\ue092 Spot Price\\nK\\ue092 Strike Price\\nT\\ue092 Time to Expiration (years)\\nr: Risk-Free Rate\\nσ: Volatility\\nN(x): Standard Normal CDF\\nCode Reference: b l a c k _ s c h o l e s _ p r i c e  function.\\n4. Implied Volatility (IV)\\nWhat it is: The σ that makes the Black-Scholes price match the m a r k e t _ p r i c e .\\nOptions V olatilit y Scr ipt: Document ation\\n2Method: Numerical optimization (minimizing the squared difference between \\nBlack-Scholes price and market price).\\nObjective: minimize(BS(S,K,T,r,σ,option_type)−MarketPrice)2\\nCode Reference: i m p l i e d _ v o l a t i l i t y  function (uses s c i p y . o p t i m i z e . f m i n ).\\nOptions V olatilit y Scr ipt: Document ation\\n3\")]}\n"
     ]
    }
   ],
   "source": [
    "def chat(query):\n",
    "    try:\n",
    "        print(\"Received Query:\", query) \n",
    "        print(\"Generated Answer:\", result)\n",
    "        return rag_chain.invoke(query)[\"result\"]\n",
    "    except Exception as e:\n",
    "        print(\"Error occurred:\", str(e))\n",
    "        return f\"❌ Error: {str(e)}\"\n",
    "\n",
    "interface = gr.Interface(\n",
    "    fn=chat,\n",
    "    inputs=gr.Textbox(lines=2, placeholder=\"ask about your doc\"),\n",
    "    outputs='text',\n",
    "    title='[Rag + Ollama] PDF Q/A',\n",
    "    theme='soft',\n",
    ")\n",
    "\n",
    "interface.launch()"
   ]
  }
 ],
 "metadata": {
  "kernelspec": {
   "display_name": "Python 3",
   "language": "python",
   "name": "python3"
  },
  "language_info": {
   "codemirror_mode": {
    "name": "ipython",
    "version": 3
   },
   "file_extension": ".py",
   "mimetype": "text/x-python",
   "name": "python",
   "nbconvert_exporter": "python",
   "pygments_lexer": "ipython3",
   "version": "3.12.10"
  }
 },
 "nbformat": 4,
 "nbformat_minor": 2
}
