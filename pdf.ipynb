{
 "cells": [
  {
   "cell_type": "code",
   "execution_count": 2,
   "metadata": {},
   "outputs": [],
   "source": [
    "from langchain.text_splitter import CharacterTextSplitter\n",
    "from langchain.embeddings import OpenAIEmbeddings\n",
    "from langchain.vectorstores import FAISS\n",
    "from pypdf import PdfReader\n"
   ]
  },
  {
   "cell_type": "code",
   "execution_count": 3,
   "metadata": {},
   "outputs": [
    {
     "name": "stdout",
     "output_type": "stream",
     "text": [
      "Options Volatility Script: \n",
      "Documentation\n",
      "Key Features:\n",
      "Option Chain Data: Fetches live call/put options from NSE.\n",
      "Historical Data: Retrieves daily OHLC data from NSE (last 90 days).\n",
      "Historical Volatility HV Calculates past stock price fluctuations.\n",
      "GARCH Volatility: Models future volatility based on past returns.\n",
      "Implied Volatility IV Derives market's expectation of future volatility from \n",
      "option prices.\n",
      "Excel Output: Saves all data into an organized Excel file.\n",
      "Mathematical Formulas :\n",
      "1.\n"
     ]
    }
   ],
   "source": [
    "\n",
    "reader = PdfReader(\"Options_Volatility_Script_Documentation.pdf\")\n",
    "text = ''\n",
    "\n",
    "for page in reader.pages:\n",
    "    text += page.extract_text()\n",
    "\n",
    "print(text[:500])"
   ]
  },
  {
   "cell_type": "code",
   "execution_count": null,
   "metadata": {},
   "outputs": [],
   "source": [
    "raw_text = text\n",
    "\n",
    "text_splitter = CharacterTextSplitter(chunk_size = 1000, chunk_overlap = 100)"
   ]
  }
 ],
 "metadata": {
  "kernelspec": {
   "display_name": "Python 3",
   "language": "python",
   "name": "python3"
  },
  "language_info": {
   "codemirror_mode": {
    "name": "ipython",
    "version": 3
   },
   "file_extension": ".py",
   "mimetype": "text/x-python",
   "name": "python",
   "nbconvert_exporter": "python",
   "pygments_lexer": "ipython3",
   "version": "3.12.10"
  }
 },
 "nbformat": 4,
 "nbformat_minor": 2
}
