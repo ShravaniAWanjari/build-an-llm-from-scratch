{
 "cells": [
  {
   "cell_type": "code",
   "execution_count": 10,
   "metadata": {},
   "outputs": [],
   "source": [
    "from langchain.text_splitter import CharacterTextSplitter\n",
    "from langchain.embeddings import HuggingFaceBgeEmbeddings\n",
    "from langchain.vectorstores import FAISS\n",
    "from pypdf import PdfReader\n",
    "from langchain.chat_models import ChatOllama\n",
    "from langchain.chains import RetrievalQA\n"
   ]
  },
  {
   "cell_type": "code",
   "execution_count": 8,
   "metadata": {},
   "outputs": [
    {
     "name": "stdout",
     "output_type": "stream",
     "text": [
      "Options Volatility Script: \n",
      "Documentation\n",
      "Key Features:\n",
      "Option Chain Data: Fetches live call/put options from NSE.\n",
      "Historical Data: Retrieves daily OHLC data from NSE (last 90 days).\n",
      "Historical Volatility HV Calculates past stock price fluctuations.\n",
      "GARCH Volatility: Models future volatility based on past returns.\n",
      "Implied Volatility IV Derives market's expectation of future volatility from \n",
      "option prices.\n",
      "Excel Output: Saves all data into an organized Excel file.\n",
      "Mathematical Formulas :\n",
      "1.\n"
     ]
    }
   ],
   "source": [
    "\n",
    "reader = PdfReader(\"Options_Volatility_Script_Documentation.pdf\")\n",
    "text = ''\n",
    "\n",
    "for page in reader.pages:\n",
    "    text += page.extract_text()\n",
    "\n",
    "print(text[:500])"
   ]
  },
  {
   "cell_type": "code",
   "execution_count": 14,
   "metadata": {},
   "outputs": [],
   "source": [
    "raw_text = text\n",
    "\n",
    "text_splitter = CharacterTextSplitter(chunk_size = 1000, chunk_overlap = 100)\n",
    "\n",
    "texts = text_splitter.split_text(raw_text)\n",
    "\n",
    "\n",
    "embeddings = HuggingFaceBgeEmbeddings(model_name=\"all-MiniLM-L6-v2\")\n",
    "\n",
    "vectorstore = FAISS.from_texts( texts , embedding=embeddings)\n",
    "\n",
    "vectorstore.save_local('volatility_vectordb')"
   ]
  },
  {
   "cell_type": "code",
   "execution_count": 16,
   "metadata": {},
   "outputs": [
    {
     "name": "stdout",
     "output_type": "stream",
     "text": [
      "Answer: The document appears to be a user manual or documentation for an Options Volatility Script. The script provides various features and tools for calculating and analyzing options volatility, including:\n",
      "\n",
      "1. Option Chain Data: The script can fetch live call/put options from NSE (National Stock Exchange of India).\n",
      "2. Historical Data: The script can retrieve daily OHLC (Open, High, Low, Close) data from NSE for the last 90 days.\n",
      "3. Historical Volatility: The script calculates past stock price fluctuations using a formula that is based on the annualized standard deviation of daily log returns.\n",
      "4. GARCH Volatility: The script uses a conditional volatility modeling approach, accounting for volatility clustering, to estimate the volatility of the underlying asset.\n",
      "5. Black-Scholes Option Pricing: The script uses the Black-Scholes model to price European options and find the implied volatility that makes the Black-Scholes price match the market price.\n",
      "6. Implied Volatility: The script provides an optimization method to find the implied volatility that makes the Black-Scholes price match the market price.\n",
      "\n",
      "The script appears to be written in Excel, and it uses various mathematical formulas and functions to perform the calculations. The documentation provides a detailed explanation of each feature and function, as well as the input and output formats for each one.\n",
      "--- Source Chunk ---\n",
      "Options Volatility Script: \n",
      "Documentation\n",
      "Key Features:\n",
      "Option Chain Data: Fetches live call/put options from NSE.\n",
      "Historical Data: Retrieves daily OHLC data from NSE (last 90 days).\n",
      "Historical Volatility HV Calculates past stock price fluctuations.\n",
      "GARCH Volatility: Models future volatility base\n"
     ]
    }
   ],
   "source": [
    "embedding_model = HuggingFaceBgeEmbeddings(model_name=\"all-MiniLM-L6-v2\")\n",
    "vectorstore = FAISS.load_local(\"volatility_vectordb\", embeddings=embedding_model, allow_dangerous_deserialization=True)\n",
    "\n",
    "llm = ChatOllama(model=\"llama2\")\n",
    "\n",
    "rag_chain = RetrievalQA.from_chain_type(llm=llm, retriever = vectorstore.as_retriever(), return_source_documents=True)\n",
    "\n",
    "\n",
    "query = \"What is the document about\"\n",
    "\n",
    "result = rag_chain(query)\n",
    "\n",
    "print(f\"Answer: {result['result']}\")\n",
    "\n",
    "\n",
    "for doc in result['source_documents']:\n",
    "    print('--- Source Chunk ---')\n",
    "    print(doc.page_content[:300])"
   ]
  }
 ],
 "metadata": {
  "kernelspec": {
   "display_name": "Python 3",
   "language": "python",
   "name": "python3"
  },
  "language_info": {
   "codemirror_mode": {
    "name": "ipython",
    "version": 3
   },
   "file_extension": ".py",
   "mimetype": "text/x-python",
   "name": "python",
   "nbconvert_exporter": "python",
   "pygments_lexer": "ipython3",
   "version": "3.12.10"
  }
 },
 "nbformat": 4,
 "nbformat_minor": 2
}
